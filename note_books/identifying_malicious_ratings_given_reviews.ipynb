{
 "cells": [
  {
   "cell_type": "markdown",
   "id": "246536b0",
   "metadata": {},
   "source": [
    "#### Author: Anilkumar Vempadapu\n",
    "Problem statment - There are times when a user writes Good, Nice App or any other positive text, in the review and gives 1-star rating. Your goal is to identify the reviews where the semantics of review text does not match rating. \n",
    "\n",
    "Goal is to identify such ratings where review text is good, but rating is negative."
   ]
  },
  {
   "cell_type": "code",
   "execution_count": 1,
   "id": "59941aa1",
   "metadata": {},
   "outputs": [],
   "source": [
    "import pandas as pd"
   ]
  },
  {
   "cell_type": "code",
   "execution_count": 2,
   "id": "ce55760d",
   "metadata": {},
   "outputs": [],
   "source": [
    "reviews = pd.read_csv('..\\\\data\\\\chrome_reviews.csv').set_index('ID')\n",
    "reviews = reviews[reviews[\"Text\"].notna()]"
   ]
  },
  {
   "cell_type": "code",
   "execution_count": 3,
   "id": "ab854692",
   "metadata": {},
   "outputs": [],
   "source": [
    "reviews_text = reviews[[\"Text\"]]\n",
    "reviews_rating = reviews[[\"Star\"]]"
   ]
  },
  {
   "cell_type": "markdown",
   "id": "bb42de37",
   "metadata": {},
   "source": [
    "In this approach, we use a pre-trained model Flair to carry the sentiment analysis, we import the package from Flair and then whenever new data is uploaded we predict the positivity in each senetnce and compare with the rating provided by user and further steps are carried accordingly."
   ]
  },
  {
   "cell_type": "code",
   "execution_count": 4,
   "id": "130aca7f",
   "metadata": {},
   "outputs": [
    {
     "name": "stdout",
     "output_type": "stream",
     "text": [
      "2022-07-02 12:26:58,672 loading file C:\\Users\\EHSIICV\\.flair\\models\\sentiment-en-mix-distillbert_4.pt\n"
     ]
    }
   ],
   "source": [
    "import flair\n",
    "from flair.models import TextClassifier\n",
    "flair_sentiment = TextClassifier.load('en-sentiment')"
   ]
  },
  {
   "cell_type": "code",
   "execution_count": 5,
   "id": "5be6e22d",
   "metadata": {},
   "outputs": [],
   "source": [
    "def predict_rating(text):\n",
    "    sentence=flair.data.Sentence(text)\n",
    "    flair_sentiment.predict(sentence)\n",
    "    total_sentiment = sentence.labels\n",
    "    \n",
    "    if \"NEGATIVE\" in str(total_sentiment[0]):\n",
    "        if sentence.score > 0.5:\n",
    "            return 1\n",
    "        else:\n",
    "            return 2\n",
    "    else:\n",
    "        if sentence.score > 0.75:\n",
    "            return 5\n",
    "        elif sentence.score > 0.3:\n",
    "            return 4\n",
    "        else:\n",
    "            return 3"
   ]
  },
  {
   "cell_type": "code",
   "execution_count": 6,
   "id": "32299128",
   "metadata": {},
   "outputs": [
    {
     "name": "stderr",
     "output_type": "stream",
     "text": [
      "<ipython-input-6-514d1a337d3b>:1: SettingWithCopyWarning: \n",
      "A value is trying to be set on a copy of a slice from a DataFrame.\n",
      "Try using .loc[row_indexer,col_indexer] = value instead\n",
      "\n",
      "See the caveats in the documentation: https://pandas.pydata.org/pandas-docs/stable/user_guide/indexing.html#returning-a-view-versus-a-copy\n",
      "  reviews_text['Rating'] = reviews_text['Text'].apply(lambda x: predict_rating(x))\n"
     ]
    }
   ],
   "source": [
    "reviews_text['Rating'] = reviews_text['Text'].apply(lambda x: predict_rating(x))"
   ]
  },
  {
   "cell_type": "code",
   "execution_count": 7,
   "id": "a576a29c",
   "metadata": {},
   "outputs": [],
   "source": [
    "final_review = pd.concat([reviews_text, reviews_rating],axis=1)"
   ]
  },
  {
   "cell_type": "code",
   "execution_count": 8,
   "id": "26afa9e9",
   "metadata": {},
   "outputs": [],
   "source": [
    "reviews_of_interest = final_review[final_review['Rating']-final_review['Star']>2]"
   ]
  },
  {
   "cell_type": "markdown",
   "id": "0611b68e",
   "metadata": {},
   "source": [
    "##### Flair model is used to predict the sentiment given a text, based on the predicted sentiment, a rating is dervied and if there exists a difference of more than 2 rating points from predicted to given rating(i.e. star) then the review is stored and provided for further analysis.\n",
    "\n",
    "The model is stored in a pickle file format for deploying and making live inferences."
   ]
  },
  {
   "cell_type": "code",
   "execution_count": 9,
   "id": "7bc32a1d",
   "metadata": {},
   "outputs": [],
   "source": [
    "reviews_of_interest.to_csv(\"..\\\\data\\\\Reviews of interest.csv\")"
   ]
  },
  {
   "cell_type": "code",
   "execution_count": 10,
   "id": "2765d600",
   "metadata": {},
   "outputs": [],
   "source": [
    "import pickle\n",
    "pickle.dump(flair_sentiment, open('..\\\\models\\\\flair_sa.pkl', 'wb'))"
   ]
  },
  {
   "cell_type": "code",
   "execution_count": 11,
   "id": "4d684d7d",
   "metadata": {},
   "outputs": [],
   "source": [
    "import pickle\n",
    "with open('..\\\\models\\\\flair_sa.pkl', 'rb') as file:\n",
    "       sentence_model = pickle.load(file)"
   ]
  },
  {
   "cell_type": "code",
   "execution_count": null,
   "id": "7f131171",
   "metadata": {},
   "outputs": [],
   "source": []
  }
 ],
 "metadata": {
  "kernelspec": {
   "display_name": "Python 3",
   "language": "python",
   "name": "python3"
  },
  "language_info": {
   "codemirror_mode": {
    "name": "ipython",
    "version": 3
   },
   "file_extension": ".py",
   "mimetype": "text/x-python",
   "name": "python",
   "nbconvert_exporter": "python",
   "pygments_lexer": "ipython3",
   "version": "3.8.8"
  }
 },
 "nbformat": 4,
 "nbformat_minor": 5
}
